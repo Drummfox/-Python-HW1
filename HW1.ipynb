{
 "cells": [
  {
   "cell_type": "code",
   "execution_count": 2,
   "id": "f057da89",
   "metadata": {},
   "outputs": [
    {
     "data": {
      "text/plain": [
       "5"
      ]
     },
     "execution_count": 2,
     "metadata": {},
     "output_type": "execute_result"
    }
   ],
   "source": [
    "2+3"
   ]
  },
  {
   "cell_type": "code",
   "execution_count": 4,
   "id": "49b92a27",
   "metadata": {},
   "outputs": [
    {
     "name": "stdout",
     "output_type": "stream",
     "text": [
      "5\n"
     ]
    }
   ],
   "source": [
    "print(2+3)"
   ]
  },
  {
   "cell_type": "code",
   "execution_count": 9,
   "id": "5a30a7dd",
   "metadata": {},
   "outputs": [
    {
     "name": "stdout",
     "output_type": "stream",
     "text": [
      "Фраза 1 длиннее фразы 2\n"
     ]
    }
   ],
   "source": [
    "phrase_1 = 'Насколько проще было бы писать программы, если бы не заказчики'\n",
    "phrase_2 = '640Кб должно хватить для любых задач. Билл Гейтс (по легенде)'\n",
    "if len(phrase_1) > len(phrase_2):\n",
    "    print(\"Фраза 1 длиннее фразы 2\")\n",
    "elif len(phrase_1) == len(phrase_2):\n",
    "    print(\"Фразы равной длины\")\n",
    "else:\n",
    "    print(\"Фраза 2 длиннее фразы 1\")"
   ]
  },
  {
   "cell_type": "code",
   "execution_count": 11,
   "id": "6e0a3e56",
   "metadata": {},
   "outputs": [
    {
     "name": "stdout",
     "output_type": "stream",
     "text": [
      "Фраза 2 длиннее фразы 1\n"
     ]
    }
   ],
   "source": [
    "phrase_1 = '640Кб должно хватить для любых задач. Билл Гейтс (по легенде)'\n",
    "phrase_2 = 'Насколько проще было бы писать программы, если бы не заказчики'\n",
    "if len(phrase_1) > len(phrase_2):\n",
    "    print(\"Фраза 1 длиннее фразы 2\")\n",
    "elif len(phrase_1) == len(phrase_2):\n",
    "    print(\"Фразы равной длины\")\n",
    "else:\n",
    "    print(\"Фраза 2 длиннее фразы 1\")"
   ]
  },
  {
   "cell_type": "code",
   "execution_count": 13,
   "id": "9331e04e",
   "metadata": {},
   "outputs": [
    {
     "name": "stdout",
     "output_type": "stream",
     "text": [
      "Фразы равной длины\n"
     ]
    }
   ],
   "source": [
    "phrase_1 = 'Насколько проще было бы писать программы, если бы не заказчики'\n",
    "phrase_2 = 'Насколько проще было бы писать программы, если бы не заказчики'\n",
    "if len(phrase_1) > len(phrase_2):\n",
    "    print(\"Фраза 1 длиннее фразы 2\")\n",
    "elif len(phrase_1) == len(phrase_2):\n",
    "    print(\"Фразы равной длины\")\n",
    "else:\n",
    "    print(\"Фраза 2 длиннее фразы 1\")"
   ]
  },
  {
   "cell_type": "code",
   "execution_count": 27,
   "id": "636a3460",
   "metadata": {},
   "outputs": [
    {
     "name": "stdout",
     "output_type": "stream",
     "text": [
      "Високосный год\n"
     ]
    }
   ],
   "source": [
    "year = 2028\n",
    "if year % 4 == 0:\n",
    "    print('Високосный год')\n",
    "else:\n",
    "    print('Обычный год')"
   ]
  },
  {
   "cell_type": "code",
   "execution_count": 27,
   "id": "73b29cf7",
   "metadata": {},
   "outputs": [
    {
     "name": "stdout",
     "output_type": "stream",
     "text": [
      "Введите дату рождения3\n",
      "Введите месяц рождения5\n",
      "Телец\n"
     ]
    }
   ],
   "source": [
    "day = int(input('Введите дату рождения'))\n",
    "if day > 0 and day < 31:\n",
    "    month = int(input('Введите месяц рождения'))\n",
    "    if (day >= 21 and month == 3) or (day <=20 and month == 4):\n",
    "        print('Овен')\n",
    "    elif (day >= 21 and month == 4) or (day <=21 and month == 5):\n",
    "        print('Телец')\n",
    "    elif (day >= 22 and month == 5) or (day <=21 and month == 6):\n",
    "        print('Близнецы')\n",
    "    elif (day >= 22 and month == 6) or (day <=22 and month == 7):\n",
    "        print('Рак')\n",
    "    elif (day >= 23 and month == 7) or (day <=21 and month == 8):\n",
    "        print('Лев')\n",
    "    elif (day >= 22 and month == 8) or (day <=23 and month == 9):\n",
    "        print('Дева')\n",
    "    elif (day >= 24 and month == 9) or (day <=23 and month == 10):\n",
    "        print('Весы')\n",
    "    elif (day >= 24 and month == 10) or (day <=22 and month == 11):\n",
    "        print('Скорпион')\n",
    "    elif (day >= 23 and month == 11) or (day <=22 and month == 12):\n",
    "        print('Стрелец')\n",
    "    elif (day >= 23 and month == 12) or (day <=20 and month == 1):\n",
    "        print('Козерог')\n",
    "    elif (day >= 21 and month == 1) or (day <=19 and month == 2):\n",
    "        print('Водолей')\n",
    "    elif (day >= 20 and month == 2) or (day <=20 and month == 3):\n",
    "        print('Рыбы')\n",
    "    else:\n",
    "        print ('Ошибка в месяце')\n",
    "else:\n",
    "    print ('Ошибка в дате')"
   ]
  },
  {
   "cell_type": "code",
   "execution_count": 12,
   "id": "5a0e7874",
   "metadata": {},
   "outputs": [
    {
     "name": "stdout",
     "output_type": "stream",
     "text": [
      "Упаковка для лыж\n"
     ]
    }
   ],
   "source": [
    "width = 45\n",
    "length = 205\n",
    "height = 45\n",
    "\n",
    "\n",
    "if width <= 15 and length <= 15 and height <= 15:\n",
    "    print ('Стандартная коробка №1')\n",
    "elif width < 50 and length < 50 and height < 50:\n",
    "    print ('Стандартная коробка №2')\n",
    "elif length > 200 :\n",
    "    print ('Упаковка для лыж')  \n",
    "else:\n",
    "    print ('Стандартная коробка №3')"
   ]
  },
  {
   "cell_type": "code",
   "execution_count": null,
   "id": "8586eac6",
   "metadata": {},
   "outputs": [],
   "source": [
    "number = 123321\n",
    "num1 = str(number)\n",
    "firstp = int(num1[0]) + int(num1[1]) +int(num1[2])\n",
    "secp = int(num1[3]) + int(num1[4]) +int(num1[5])\n",
    "if firstp == secp:\n",
    "    print('Счастливый билет')\n",
    "else:\n",
    "    print('Несчастливый билет')\n"
   ]
  },
  {
   "cell_type": "code",
   "execution_count": 38,
   "id": "7dc12604",
   "metadata": {},
   "outputs": [
    {
     "name": "stdout",
     "output_type": "stream",
     "text": [
      "Введите тип фигурыТреугольник\n",
      "Введите длину стороны А2\n",
      "Введите длину стороны В2\n",
      "Введите длину стороны С3\n",
      "Площадь треугольника: 1.984313483298443\n"
     ]
    }
   ],
   "source": [
    "typef = str(input('Введите тип фигуры'))\n",
    "if typef == 'Круг':\n",
    "    rad = int(input('Введите радиус круга'))\n",
    "    sq = 3.1416 * rad**2\n",
    "    print('Площадь круга: '+ str(sq))\n",
    "elif typef == 'Треугольник':\n",
    "    sta = int(input('Введите длину стороны А'))\n",
    "    stb = int(input('Введите длину стороны В'))\n",
    "    stc = int(input('Введите длину стороны С'))\n",
    "    pp = (sta+stb+stc)/2\n",
    "    sq = (pp*(pp-sta)*(pp-stb)*(pp-stc))**(1/2)\n",
    "    print('Площадь треугольника: '+ str(sq))\n",
    "elif typef == 'Прямоугольник':\n",
    "    sta = int(input('Введите длину стороны А'))\n",
    "    stb = int(input('Введите длину стороны В'))\n",
    "    sq = sta*stb\n",
    "    print('Площадь прямоугольника: '+ str(sq))\n",
    "else:\n",
    "    print('Неправильно написан тип фигуры')"
   ]
  }
 ],
 "metadata": {
  "kernelspec": {
   "display_name": "Python 3 (ipykernel)",
   "language": "python",
   "name": "python3"
  },
  "language_info": {
   "codemirror_mode": {
    "name": "ipython",
    "version": 3
   },
   "file_extension": ".py",
   "mimetype": "text/x-python",
   "name": "python",
   "nbconvert_exporter": "python",
   "pygments_lexer": "ipython3",
   "version": "3.9.13"
  }
 },
 "nbformat": 4,
 "nbformat_minor": 5
}
